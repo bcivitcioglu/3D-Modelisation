{
 "cells": [
  {
   "cell_type": "markdown",
   "id": "6c130a35",
   "metadata": {},
   "source": [
    "# Introduction to numpy (30 mins)"
   ]
  },
  {
   "cell_type": "markdown",
   "id": "dcb9a4a7",
   "metadata": {},
   "source": [
    "\n",
    "## Agenda\n",
    "\n",
    "1. **Brief Introduction to numpy**\n",
    "   - What is numpy and why it's important in scientific computing\n",
    "   - Importing the numpy library\n",
    "   \n",
    "2. **Creating numpy arrays**\n",
    "   - From Python lists\n",
    "   - Using built-in numpy functions (e.g., `np.zeros`, `np.ones`, `np.arange`, `np.linspace`)\n",
    "   \n",
    "3. **Array indexing and slicing**\n",
    "   - Single element indexing\n",
    "   - Multi-element slicing\n",
    "   - Conditional indexing\n",
    "   \n",
    "4. **Basic array operations**\n",
    "   - Element-wise operations (addition, subtraction, multiplication, etc.)\n",
    "   - Aggregations (mean, sum, max, min, etc.)\n",
    "   \n",
    "5. **Exercise: Simple array manipulations**\n",
    "   - Given tasks to reinforce the above concepts\n"
   ]
  },
  {
   "cell_type": "markdown",
   "id": "431ef3f5",
   "metadata": {},
   "source": [
    "\n",
    "## Brief Introduction to numpy\n",
    "\n",
    "Numpy is one of the most fundamental packages for numerical computations in Python. \n",
    "It provides support for arrays (including multidimensional arrays), as well as an assortment of \n",
    "mathematical functions to operate on these arrays. With numpy, scientific and mathematical computations \n",
    "are simpler and faster.\n",
    "\n",
    "### Importing the numpy library\n",
    "To start using numpy, first, we need to import it.\n"
   ]
  },
  {
   "cell_type": "code",
   "execution_count": null,
   "id": "70c0d3f1",
   "metadata": {},
   "outputs": [],
   "source": [
    "\n",
    "import numpy as np\n"
   ]
  },
  {
   "cell_type": "markdown",
   "id": "e6ad99f9",
   "metadata": {},
   "source": [
    "\n",
    "## Creating numpy arrays\n",
    "\n",
    "Numpy arrays can be created in multiple ways:\n",
    "- From a Python list or tuple\n",
    "- Using functions like `arange`, `linspace`, `zeros`, `ones`, etc.\n"
   ]
  },
  {
   "cell_type": "code",
   "execution_count": null,
   "id": "53f0dd41",
   "metadata": {},
   "outputs": [],
   "source": [
    "\n",
    "# Creating an array from a list\n",
    "arr_from_list = np.array([1, 2, 3, 4, 5])\n",
    "print(\"Array from list:\", arr_from_list)\n",
    "\n",
    "# Creating an array of zeros\n",
    "arr_zeros = np.zeros((3, 3))\n",
    "print(\"\\nArray of zeros:\")\n",
    "print(arr_zeros)\n",
    "\n",
    "# Creating an array of ones\n",
    "arr_ones = np.ones((2, 2))\n",
    "print(\"\\nArray of ones:\")\n",
    "print(arr_ones)\n",
    "\n",
    "# Creating an array with a range of values\n",
    "arr_range = np.arange(0, 10, 2)\n",
    "print(\"\\nArray with a range of values:\", arr_range)\n",
    "\n",
    "# Creating an array of linearly spaced values\n",
    "arr_linspace = np.linspace(0, 1, 5)\n",
    "print(\"\\nArray of linearly spaced values:\", arr_linspace)\n"
   ]
  },
  {
   "cell_type": "markdown",
   "id": "b213de9a",
   "metadata": {},
   "source": [
    "\n",
    "## Array indexing and slicing\n",
    "\n",
    "Numpy offers several ways to index and slice arrays. \n",
    "- Single element indexing \n",
    "- Multi-element slicing\n",
    "- Conditional indexing\n"
   ]
  },
  {
   "cell_type": "code",
   "execution_count": null,
   "id": "f64bd6a6",
   "metadata": {},
   "outputs": [],
   "source": [
    "\n",
    "# Single element indexing\n",
    "single_element = arr_from_list[0]\n",
    "print(\"Single element:\", single_element)\n",
    "\n",
    "# Multi-element slicing\n",
    "multi_elements = arr_from_list[1:4]\n",
    "print(\"\\nMulti-element slicing:\", multi_elements)\n",
    "\n",
    "# Conditional indexing\n",
    "conditional_elements = arr_from_list[arr_from_list > 2]\n",
    "print(\"\\nConditional indexing:\", conditional_elements)\n"
   ]
  },
  {
   "cell_type": "markdown",
   "id": "97aa63df",
   "metadata": {},
   "source": [
    "\n",
    "## Basic array operations\n",
    "\n",
    "Numpy arrays support a variety of operations.\n",
    "- Element-wise operations (addition, subtraction, multiplication, etc.)\n",
    "- Aggregations (mean, sum, max, min, etc.)\n"
   ]
  },
  {
   "cell_type": "code",
   "execution_count": null,
   "id": "b705fd84",
   "metadata": {},
   "outputs": [],
   "source": [
    "\n",
    "# Element-wise addition\n",
    "element_wise_addition = arr_from_list + 2\n",
    "print(\"Element-wise addition:\", element_wise_addition)\n",
    "\n",
    "# Element-wise multiplication\n",
    "element_wise_multiplication = arr_from_list * 2\n",
    "print(\"\\nElement-wise multiplication:\", element_wise_multiplication)\n",
    "\n",
    "# Mean of array\n",
    "mean_value = np.mean(arr_from_list)\n",
    "print(\"\\nMean value:\", mean_value)\n",
    "\n",
    "# Sum of array\n",
    "sum_value = np.sum(arr_from_list)\n",
    "print(\"\\nSum value:\", sum_value)\n"
   ]
  },
  {
   "cell_type": "markdown",
   "id": "64e5a015",
   "metadata": {},
   "source": [
    "\n",
    "## Exercise: Simple array manipulations\n",
    "\n",
    "1. Create a 2x2 array of zeros.\n",
    "2. Add 1 to each element of the array.\n",
    "3. Calculate the sum of all elements in the array.\n",
    "4. Create a 1D array of 5 elements between 0 to 10.\n",
    "5. Select elements greater than 5 from the array.\n",
    "\n",
    "Try to perform these tasks to reinforce your understanding of the concepts.\n"
   ]
  },
  {
   "cell_type": "markdown",
   "id": "1c97a34c",
   "metadata": {},
   "source": [
    "\n",
    "## Advanced Array Operations\n",
    "\n",
    "In addition to basic operations, numpy also provides statistical operations useful in scientific computing.\n",
    "\n",
    "- Standard Deviation\n",
    "- Error Bar calculation\n"
   ]
  },
  {
   "cell_type": "code",
   "execution_count": null,
   "id": "2e120011",
   "metadata": {},
   "outputs": [],
   "source": [
    "\n",
    "# Standard Deviation\n",
    "std_dev = np.std(arr_from_list)\n",
    "print(\"Standard Deviation:\", std_dev)\n",
    "\n",
    "# Error Bar calculation (Standard Error of the Mean)\n",
    "error_bar = std_dev / np.sqrt(len(arr_from_list))\n",
    "print(\"\\nError Bar:\", error_bar)\n"
   ]
  },
  {
   "cell_type": "markdown",
   "id": "e4af8c35",
   "metadata": {},
   "source": [
    "\n",
    "## Answers to Exercises\n",
    "\n",
    "1. Create a 2x2 array of zeros.\n",
    "   ```python\n",
    "   np.zeros((2, 2))\n",
    "   ```\n",
    "   \n",
    "2. Add 1 to each element of the array.\n",
    "   ```python\n",
    "   np.zeros((2, 2)) + 1\n",
    "   ```\n",
    "   \n",
    "3. Calculate the sum of all elements in the array.\n",
    "   ```python\n",
    "   np.sum(np.zeros((2, 2)) + 1)\n",
    "   ```\n",
    "\n",
    "4. Create a 1D array of 5 elements between 0 to 10.\n",
    "   ```python\n",
    "   np.linspace(0, 10, 5)\n",
    "   ```\n",
    "   \n",
    "5. Select elements greater than 5 from the array.\n",
    "   ```python\n",
    "   arr = np.linspace(0, 10, 5)\n",
    "   arr[arr > 5]\n",
    "   ```\n"
   ]
  },
  {
   "cell_type": "markdown",
   "id": "10276a33",
   "metadata": {},
   "source": [
    "\n",
    "## Graded Problem (5 minutes)\n",
    "\n",
    "Given a dataset represented by a numpy array `[4.4, 4.5, 4.2, 4.8, 4.1, 4.7, 4.0, 4.3]`,\n",
    "perform the following tasks:\n",
    "\n",
    "1. Calculate the mean of the dataset.\n",
    "2. Calculate the standard deviation of the dataset.\n",
    "3. Calculate the error bar for the dataset.\n",
    "\n",
    "Submit your answers along with the code used to obtain them. This problem will be graded.\n"
   ]
  }
 ],
 "metadata": {},
 "nbformat": 4,
 "nbformat_minor": 5
}
