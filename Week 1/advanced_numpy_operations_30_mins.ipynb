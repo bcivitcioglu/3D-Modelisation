{
 "cells": [
  {
   "cell_type": "markdown",
   "id": "89af4282",
   "metadata": {},
   "source": [
    "# Advanced numpy Operations (30 mins)"
   ]
  },
  {
   "cell_type": "markdown",
   "id": "a22cdd0c",
   "metadata": {},
   "source": [
    "\n",
    "## Agenda\n",
    "\n",
    "1. **Array Broadcasting**\n",
    "   - Understanding broadcasting rules\n",
    "   - Practical examples\n",
    "   \n",
    "2. **Array reshaping and transposing**\n",
    "   - Reshaping arrays\n",
    "   - Transposing arrays\n",
    "   \n",
    "3. **Matrix multiplication and linear algebra**\n",
    "   - Dot product\n",
    "   - Matrix multiplication\n",
    "   - Eigenvalues and Eigenvectors\n",
    "   \n",
    "4. **Exercise: Matrix Operations**\n",
    "   - Tasks to practice the above concepts\n",
    "   \n",
    "5. **Graded Problem (5 minutes)**\n"
   ]
  },
  {
   "cell_type": "markdown",
   "id": "ab59009f",
   "metadata": {},
   "source": [
    "\n",
    "## Array Broadcasting\n",
    "\n",
    "In numpy, broadcasting allows us to perform binary operations on arrays of different shapes and sizes. \n",
    "Broadcasting automates certain operations to match the shapes, making it easier to perform array manipulations.\n",
    "\n",
    "### Understanding broadcasting rules\n",
    "\n",
    "Broadcasting follows a certain set of rules to determine the interaction between two arrays:\n",
    "\n",
    "1. If the arrays have different dimensions, prepend the shape of the lower dimensional array with 1s.\n",
    "2. The sizes of the dimensions are considered compatible when they are equal or one of them is 1.\n",
    "3. The arrays can be broadcasted together if their dimensions are compatible.\n",
    "\n",
    "Let's look at some practical examples.\n"
   ]
  },
  {
   "cell_type": "code",
   "execution_count": 1,
   "id": "a6a533fe",
   "metadata": {},
   "outputs": [
    {
     "name": "stdout",
     "output_type": "stream",
     "text": [
      "Result of broadcasting:\n",
      "[[11 12 13]\n",
      " [21 22 23]\n",
      " [31 32 33]]\n"
     ]
    }
   ],
   "source": [
    "import numpy as np\n",
    "# Two arrays of different dimensions\n",
    "a = np.array([1, 2, 3])\n",
    "b = np.array([[10], [20], [30]])\n",
    "\n",
    "# Broadcasting allows these arrays to be added together\n",
    "result = a + b\n",
    "print(\"Result of broadcasting:\")\n",
    "print(result)\n"
   ]
  },
  {
   "cell_type": "markdown",
   "id": "e5879beb",
   "metadata": {},
   "source": [
    "\n",
    "## Array reshaping and transposing\n",
    "\n",
    "### Reshaping arrays\n",
    "Numpy provides various ways to change the shape of existing arrays without changing their data.\n",
    "\n",
    "### Transposing arrays\n",
    "Transposing is a special form of reshaping that returns a new array with the number of rows and columns switched.\n",
    "\n",
    "Let's look at some examples.\n"
   ]
  },
  {
   "cell_type": "code",
   "execution_count": 2,
   "id": "d7748728",
   "metadata": {},
   "outputs": [
    {
     "name": "stdout",
     "output_type": "stream",
     "text": [
      "Reshaped array:\n",
      "[[1 2 3]\n",
      " [4 5 6]]\n",
      "\n",
      "Transposed array:\n",
      "[[1 4]\n",
      " [2 5]\n",
      " [3 6]]\n"
     ]
    }
   ],
   "source": [
    "\n",
    "# Reshaping a 1D array into a 2D array (of different shapes)\n",
    "arr = np.array([1, 2, 3, 4, 5, 6])\n",
    "reshaped_arr = arr.reshape((2, 3))\n",
    "print(\"Reshaped array:\")\n",
    "print(reshaped_arr)\n",
    "\n",
    "# Transposing a 2D array\n",
    "transposed_arr = reshaped_arr.T\n",
    "print(\"\\nTransposed array:\")\n",
    "print(transposed_arr)\n"
   ]
  },
  {
   "cell_type": "markdown",
   "id": "0aef663a",
   "metadata": {},
   "source": [
    "\n",
    "## Matrix multiplication and linear algebra\n",
    "\n",
    "### Dot Product\n",
    "The dot product or scalar product is an algebraic operation that takes two equal-length sequences of numbers and returns a single number.\n",
    "\n",
    "### Matrix Multiplication\n",
    "In numpy, the `dot` function also performs matrix multiplication when applied on 2D arrays.\n",
    "\n",
    "### Eigenvalues and Eigenvectors\n",
    "Eigenvalues and eigenvectors are important in a variety of scientific computing problems.\n",
    "\n",
    "Let's explore these with examples.\n"
   ]
  },
  {
   "cell_type": "code",
   "execution_count": 3,
   "id": "dc84e214",
   "metadata": {},
   "outputs": [
    {
     "name": "stdout",
     "output_type": "stream",
     "text": [
      "Dot Product: 32\n",
      "\n",
      "Matrix Multiplication:\n",
      "[[19 22]\n",
      " [43 50]]\n",
      "\n",
      "Eigenvalues: [-0.37228132  5.37228132]\n",
      "Eigenvectors:\n",
      "[[-0.82456484 -0.41597356]\n",
      " [ 0.56576746 -0.90937671]]\n"
     ]
    }
   ],
   "source": [
    "\n",
    "# Dot Product\n",
    "a = np.array([1, 2, 3])\n",
    "b = np.array([4, 5, 6])\n",
    "dot_product = np.dot(a, b)\n",
    "print(\"Dot Product:\", dot_product)\n",
    "\n",
    "# Matrix Multiplication\n",
    "A = np.array([[1, 2], [3, 4]])\n",
    "B = np.array([[5, 6], [7, 8]])\n",
    "matrix_multiplication = np.dot(A, B)\n",
    "print(\"\\nMatrix Multiplication:\")\n",
    "print(matrix_multiplication)\n",
    "\n",
    "# Eigenvalues and Eigenvectors\n",
    "eigenvalues, eigenvectors = np.linalg.eig(A)\n",
    "print(\"\\nEigenvalues:\", eigenvalues)\n",
    "print(\"Eigenvectors:\")\n",
    "print(eigenvectors)\n"
   ]
  },
  {
   "cell_type": "markdown",
   "id": "19fa675b",
   "metadata": {},
   "source": [
    "\n",
    "## Exercise: Matrix Operations\n",
    "\n",
    "1. Create a 2x2 matrix and multiply it by itself.\n",
    "2. Create a 3x3 identity matrix.\n",
    "3. Find the eigenvalues and eigenvectors of a 2x2 matrix.\n",
    "\n",
    "Perform these tasks to get hands-on experience with matrix operations.\n"
   ]
  },
  {
   "cell_type": "markdown",
   "id": "ee3a4d23",
   "metadata": {},
   "source": [
    "\n",
    "## Answers to Exercises\n",
    "\n",
    "1. Create a 2x2 matrix and multiply it by itself.\n",
    "   ```python\n",
    "   matrix = np.array([[1, 2], [3, 4]])\n",
    "   np.dot(matrix, matrix)\n",
    "   ```\n",
    "   \n",
    "2. Create a 3x3 identity matrix.\n",
    "   ```python\n",
    "   np.identity(3)\n",
    "   ```\n",
    "   \n",
    "3. Find the eigenvalues and eigenvectors of a 2x2 matrix.\n",
    "   ```python\n",
    "   matrix = np.array([[1, 2], [3, 4]])\n",
    "   np.linalg.eig(matrix)\n",
    "   ```\n"
   ]
  },
  {
   "cell_type": "markdown",
   "id": "a2383231",
   "metadata": {},
   "source": [
    "\n",
    "## Graded Problem (5 minutes)\n",
    "\n",
    "Given two matrices \\( A = \\left[\begin{array}{cc} 1 & 2 \\ 3 & 4 \\end{array}\n",
    "ight] \\) \n",
    "and \\( B = \\left[\begin{array}{cc} 5 & 6 \\ 7 & 8 \\end{array}\n",
    "ight] \\), perform the following tasks:\n",
    "\n",
    "1. Multiply matrix \\( A \\) by matrix \\( B \\).\n",
    "2. Find the eigenvalues and eigenvectors of matrix \\( A \\).\n",
    "3. Calculate the dot product of the first row of matrix \\( A \\) and the second row of matrix \\( B \\).\n",
    "\n",
    "Submit your answers along with the code used to obtain them. This problem will be graded.\n"
   ]
  }
 ],
 "metadata": {
  "kernelspec": {
   "display_name": "j1j2",
   "language": "python",
   "name": "python3"
  },
  "language_info": {
   "codemirror_mode": {
    "name": "ipython",
    "version": 3
   },
   "file_extension": ".py",
   "mimetype": "text/x-python",
   "name": "python",
   "nbconvert_exporter": "python",
   "pygments_lexer": "ipython3",
   "version": "3.9.17"
  }
 },
 "nbformat": 4,
 "nbformat_minor": 5
}
