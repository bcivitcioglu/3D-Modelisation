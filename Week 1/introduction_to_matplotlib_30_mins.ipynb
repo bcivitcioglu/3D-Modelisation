{
 "cells": [
  {
   "cell_type": "markdown",
   "id": "eb773083",
   "metadata": {},
   "source": [
    "# Introduction to matplotlib (30 mins)"
   ]
  },
  {
   "cell_type": "markdown",
   "id": "f479315e",
   "metadata": {},
   "source": [
    "\n",
    "## Agenda\n",
    "\n",
    "1. **Introduction to matplotlib**\n",
    "   - What is matplotlib and its importance\n",
    "   - Importing the matplotlib library\n",
    "   \n",
    "2. **Basic plotting**\n",
    "   - Line plots\n",
    "   - Scatter plots\n",
    "   \n",
    "3. **Customizing plots**\n",
    "   - Labels, titles, legends\n",
    "   - Markers, colors, linestyle\n",
    "   \n",
    "4. **Exercise: Create Basic Plots**\n",
    "   - Tasks to practice basic plotting\n",
    "   \n",
    "5. **Graded Problem (5 minutes)**\n"
   ]
  },
  {
   "cell_type": "markdown",
   "id": "721ec360",
   "metadata": {},
   "source": [
    "\n",
    "## Introduction to matplotlib\n",
    "\n",
    "Matplotlib is a plotting library for Python that provides a wide variety of static, animated, and interactive visualizations. \n",
    "It is one of the most widely used libraries for plotting in the Python community.\n",
    "\n",
    "### Importing the matplotlib library\n",
    "First, let's import the matplotlib library to start plotting.\n"
   ]
  },
  {
   "cell_type": "code",
   "execution_count": 1,
   "id": "eeb8f509",
   "metadata": {},
   "outputs": [],
   "source": [
    "\n",
    "import matplotlib.pyplot as plt\n"
   ]
  },
  {
   "cell_type": "markdown",
   "id": "3ad150de",
   "metadata": {},
   "source": [
    "\n",
    "## Basic plotting\n",
    "\n",
    "Matplotlib provides various types of plots for data visualization. \n",
    "We will start with some basic types of plots:\n",
    "\n",
    "### Line plots\n",
    "Line plots are useful for showing trends over time.\n",
    "\n",
    "### Scatter plots\n",
    "Scatter plots are used to display the relationship between two variables.\n",
    "\n",
    "Let's create some basic plots to understand these concepts better.\n"
   ]
  },
  {
   "cell_type": "code",
   "execution_count": 2,
   "id": "7edebf5c",
   "metadata": {},
   "outputs": [
    {
     "data": {
      "image/png": "[encoded data removed]",
      "text/plain": [
       "<Figure size 720x288 with 2 Axes>"
      ]
     },
     "metadata": {
      "needs_background": "light"
     },
     "output_type": "display_data"
    }
   ],
   "source": [
    "\n",
    "# Data\n",
    "x = [0, 1, 2, 3, 4, 5]\n",
    "y = [0, 1, 4, 9, 16, 25]\n",
    "\n",
    "# Line plot\n",
    "plt.figure(figsize=(10, 4))\n",
    "plt.subplot(1, 2, 1)\n",
    "plt.plot(x, y)\n",
    "plt.title('Line Plot')\n",
    "plt.xlabel('X-axis')\n",
    "plt.ylabel('Y-axis')\n",
    "\n",
    "# Scatter plot\n",
    "plt.subplot(1, 2, 2)\n",
    "plt.scatter(x, y)\n",
    "plt.title('Scatter Plot')\n",
    "plt.xlabel('X-axis')\n",
    "plt.ylabel('Y-axis')\n",
    "\n",
    "# Show the plots\n",
    "plt.tight_layout()\n",
    "plt.show()\n"
   ]
  },
  {
   "cell_type": "markdown",
   "id": "78f8423f",
   "metadata": {},
   "source": [
    "\n",
    "## Customizing plots\n",
    "\n",
    "Matplotlib provides various options to customize plots.\n",
    "\n",
    "- Labels, titles, legends\n",
    "- Markers, colors, linestyle\n",
    "\n",
    "Let's see how we can customize our plots.\n"
   ]
  },
  {
   "cell_type": "code",
   "execution_count": 3,
   "id": "4596f3fa",
   "metadata": {},
   "outputs": [
    {
     "data": {
      "image/png": "[encoded data removed]",
      "text/plain": [
       "<Figure size 720x288 with 2 Axes>"
      ]
     },
     "metadata": {
      "needs_background": "light"
     },
     "output_type": "display_data"
    }
   ],
   "source": [
    "\n",
    "# Customized Line plot\n",
    "plt.figure(figsize=(10, 4))\n",
    "plt.subplot(1, 2, 1)\n",
    "plt.plot(x, y, marker='o', linestyle='--', color='r', label='y = x^2')\n",
    "plt.title('Customized Line Plot')\n",
    "plt.xlabel('X-axis')\n",
    "plt.ylabel('Y-axis')\n",
    "plt.legend()\n",
    "\n",
    "# Customized Scatter plot\n",
    "plt.subplot(1, 2, 2)\n",
    "plt.scatter(x, y, marker='x', color='g', label='y = x^2')\n",
    "plt.title('Customized Scatter Plot')\n",
    "plt.xlabel('X-axis')\n",
    "plt.ylabel('Y-axis')\n",
    "plt.legend()\n",
    "\n",
    "# Show the plots\n",
    "plt.tight_layout()\n",
    "plt.show()\n"
   ]
  },
  {
   "cell_type": "markdown",
   "id": "bf5ceb2f",
   "metadata": {},
   "source": [
    "\n",
    "## Exercise: Create Basic Plots\n",
    "\n",
    "1. Create a line plot for the function \\( y = x^3 \\) for \\( x \\) ranging from 0 to 5.\n",
    "2. Create a scatter plot for the function \\( y = \\sin(x) \\) for \\( x \\) ranging from 0 to \\( 2\\pi \\).\n",
    "\n",
    "Practice these tasks to get hands-on experience with basic plotting.\n"
   ]
  },
  {
   "cell_type": "markdown",
   "id": "14746b34",
   "metadata": {},
   "source": [
    "\n",
    "## Answers to Exercises\n",
    "\n",
    "1. Create a line plot for the function \\( y = x^3 \\)\n",
    "   ```python\n",
    "   x = np.linspace(0, 5, 100)\n",
    "   y = x ** 3\n",
    "   plt.plot(x, y)\n",
    "   plt.title('y = x^3')\n",
    "   plt.xlabel('x')\n",
    "   plt.ylabel('y')\n",
    "   plt.show()\n",
    "   ```\n",
    "   \n",
    "2. Create a scatter plot for the function \\( y = \\sin(x) \\)\n",
    "   ```python\n",
    "   x = np.linspace(0, 2 * np.pi, 100)\n",
    "   y = np.sin(x)\n",
    "   plt.scatter(x, y)\n",
    "   plt.title('y = sin(x)')\n",
    "   plt.xlabel('x')\n",
    "   plt.ylabel('y')\n",
    "   plt.show()\n",
    "   ```\n"
   ]
  },
  {
   "cell_type": "markdown",
   "id": "ca8fc2a2",
   "metadata": {},
   "source": [
    "\n",
    "## Graded Problem (5 minutes)\n",
    "\n",
    "Create a plot combining both a line plot and a scatter plot for the function \\( y = x^2 \\) for \\( x \\) ranging from -5 to 5. \n",
    "Label the line plot as 'Line' and the scatter plot as 'Points'. \n",
    "Add appropriate titles, labels, and a legend.\n",
    "\n",
    "Submit your answer along with the code used to obtain it. This problem will be graded.\n"
   ]
  }
 ],
 "metadata": {
  "kernelspec": {
   "display_name": "j1j2",
   "language": "python",
   "name": "python3"
  },
  "language_info": {
   "codemirror_mode": {
    "name": "ipython",
    "version": 3
   },
   "file_extension": ".py",
   "mimetype": "text/x-python",
   "name": "python",
   "nbconvert_exporter": "python",
   "pygments_lexer": "ipython3",
   "version": "3.9.17"
  }
 },
 "nbformat": 4,
 "nbformat_minor": 5
}
