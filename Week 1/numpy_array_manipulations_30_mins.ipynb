{
 "cells": [
  {
   "cell_type": "markdown",
   "id": "059a67dc",
   "metadata": {},
   "source": [
    "# Numpy Array Manipulations (30 mins)"
   ]
  },
  {
   "cell_type": "markdown",
   "id": "1e56414b",
   "metadata": {},
   "source": [
    "\n",
    "## Agenda\n",
    "\n",
    "1. **Array Reshaping and Transposition**\n",
    "    - Reshaping\n",
    "    - Transposing\n",
    "   \n",
    "2. **Array Splitting and Combining**\n",
    "    - Splitting\n",
    "    - Combining\n",
    "   \n",
    "3. **Advanced Indexing and Slicing**\n",
    "    - Boolean indexing\n",
    "    - Fancy indexing\n",
    "   \n",
    "4. **Exercise: Array Manipulations**\n",
    "    - Tasks to practice array manipulations in NumPy\n",
    "   \n",
    "5. **Graded Problem (5 minutes)**\n"
   ]
  },
  {
   "cell_type": "markdown",
   "id": "25d02feb",
   "metadata": {},
   "source": [
    "\n",
    "## 1. Array Reshaping and Transposition\n",
    "\n",
    "NumPy provides several ways to rearrange and modify the structure of arrays.\n",
    "\n",
    "### Reshaping\n",
    "\n",
    "Changing the shape of an array without altering the data within.\n",
    "\n",
    "### Transposing\n",
    "\n",
    "Flipping the axes of an array.\n",
    "\n",
    "Let's dive into some examples.\n"
   ]
  },
  {
   "cell_type": "code",
   "execution_count": 1,
   "id": "5927f010",
   "metadata": {},
   "outputs": [
    {
     "name": "stdout",
     "output_type": "stream",
     "text": [
      "Original Array: [1 2 3 4 5 6 7 8 9]\n",
      "Reshaped Array:\n",
      " [[1 2 3]\n",
      " [4 5 6]\n",
      " [7 8 9]]\n",
      "Transposed Array:\n",
      " [[1 4 7]\n",
      " [2 5 8]\n",
      " [3 6 9]]\n"
     ]
    }
   ],
   "source": [
    "\n",
    "import numpy as np\n",
    "\n",
    "# Reshaping an array\n",
    "arr = np.arange(1, 10)\n",
    "reshaped_arr = arr.reshape(3, 3)\n",
    "print('Original Array:', arr)\n",
    "print('Reshaped Array:\\n', reshaped_arr)\n",
    "\n",
    "# Transposing an array\n",
    "transposed_arr = reshaped_arr.T\n",
    "print('Transposed Array:\\n', transposed_arr)\n"
   ]
  },
  {
   "cell_type": "markdown",
   "id": "4ca5da9c",
   "metadata": {},
   "source": [
    "\n",
    "## 2. Array Splitting and Combining\n",
    "\n",
    "### Splitting\n",
    "\n",
    "Breaking one array into multiple smaller arrays.\n",
    "\n",
    "### Combining\n",
    "\n",
    "Merging multiple arrays into one larger array.\n",
    "\n",
    "Let's see these operations in action.\n"
   ]
  },
  {
   "cell_type": "code",
   "execution_count": 2,
   "id": "6560f7dd",
   "metadata": {},
   "outputs": [
    {
     "name": "stdout",
     "output_type": "stream",
     "text": [
      "Original Array: [1 2 3 4 5 6 7 8 9]\n",
      "Split arrays: [1 2] [3 4 5] [6 7 8 9]\n",
      "Combined Array: [1 2 3 4 5 6 7 8 9]\n"
     ]
    }
   ],
   "source": [
    "\n",
    "# Splitting an array\n",
    "split_arr1, split_arr2, split_arr3 = np.split(arr, [2, 5])\n",
    "print('Original Array:', arr)\n",
    "print('Split arrays:', split_arr1, split_arr2, split_arr3)\n",
    "\n",
    "# Combining arrays\n",
    "combined_arr = np.concatenate([split_arr1, split_arr2, split_arr3])\n",
    "print('Combined Array:', combined_arr)\n"
   ]
  },
  {
   "cell_type": "markdown",
   "id": "5f20885a",
   "metadata": {},
   "source": [
    "\n",
    "## 3. Advanced Indexing and Slicing\n",
    "\n",
    "NumPy offers more sophisticated ways to index and slice arrays.\n",
    "\n",
    "### Boolean Indexing\n",
    "\n",
    "Indexing using boolean conditions.\n",
    "\n",
    "### Fancy Indexing\n",
    "\n",
    "Indexing using integer arrays.\n",
    "\n",
    "Let's check out some examples.\n"
   ]
  },
  {
   "cell_type": "code",
   "execution_count": 3,
   "id": "3f94434b",
   "metadata": {},
   "outputs": [
    {
     "name": "stdout",
     "output_type": "stream",
     "text": [
      "Original Array: [6 6 8 3 6 6 8 1 5 9]\n",
      "Values greater than 5: [6 6 8 6 6 8 9]\n",
      "Values at selected indices: [6 3 6]\n"
     ]
    }
   ],
   "source": [
    "\n",
    "# Boolean Indexing\n",
    "arr = np.random.randint(1, 10, size=10)\n",
    "print('Original Array:', arr)\n",
    "print('Values greater than 5:', arr[arr > 5])\n",
    "\n",
    "# Fancy Indexing\n",
    "indices = [1, 3, 5]\n",
    "print('Values at selected indices:', arr[indices])\n"
   ]
  },
  {
   "cell_type": "markdown",
   "id": "95013553",
   "metadata": {},
   "source": [
    "\n",
    "## 4. Exercise: Array Manipulations\n",
    "\n",
    "1. Create a 3x3 matrix and transpose it.\n",
    "2. Create two arrays of shape (3, 3) and concatenate them vertically.\n",
    "\n",
    "Try to complete these exercises for hands-on practice.\n"
   ]
  },
  {
   "cell_type": "markdown",
   "id": "a484c9a3",
   "metadata": {},
   "source": [
    "\n",
    "## Exercise Answers\n",
    "\n",
    "1. **Create a 3x3 matrix and transpose it.**\n",
    "    ```python\n",
    "    matrix = np.array([[1, 2, 3], [4, 5, 6], [7, 8, 9]])\n",
    "    transposed_matrix = matrix.T\n",
    "    print('Transposed Matrix:\\n', transposed_matrix)\n",
    "    ```\n",
    "\n",
    "2. **Create two arrays of shape (3, 3) and concatenate them vertically.**\n",
    "    ```python\n",
    "    arr1 = np.array([[1, 2, 3], [4, 5, 6], [7, 8, 9]])\n",
    "    arr2 = np.array([[10, 11, 12], [13, 14, 15], [16, 17, 18]])\n",
    "    concatenated_arr = np.vstack([arr1, arr2])\n",
    "    print('Concatenated Array:\\n', concatenated_arr)\n",
    "    ```\n"
   ]
  },
  {
   "cell_type": "markdown",
   "id": "8b4f17af",
   "metadata": {},
   "source": [
    "\n",
    "## 5. Graded Problem (5 minutes)\n",
    "\n",
    "Create a 5x5 NumPy array with random integers. Then:\n",
    "\n",
    "1. Extract the diagonal elements and put them in a 1D array.\n",
    "2. Replace all the values above the diagonal with zeros.\n",
    "\n",
    "Submit your solution for grading.\n"
   ]
  },
  {
   "cell_type": "markdown",
   "id": "d5c9d222",
   "metadata": {},
   "source": []
  }
 ],
 "metadata": {
  "kernelspec": {
   "display_name": "j1j2",
   "language": "python",
   "name": "python3"
  },
  "language_info": {
   "codemirror_mode": {
    "name": "ipython",
    "version": 3
   },
   "file_extension": ".py",
   "mimetype": "text/x-python",
   "name": "python",
   "nbconvert_exporter": "python",
   "pygments_lexer": "ipython3",
   "version": "3.9.17"
  }
 },
 "nbformat": 4,
 "nbformat_minor": 5
}
